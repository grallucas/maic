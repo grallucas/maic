{
 "cells": [
  {
   "cell_type": "code",
   "execution_count": 4,
   "metadata": {},
   "outputs": [
    {
     "name": "stdout",
     "output_type": "stream",
     "text": [
      "md\\contacts\\Eboard Member1.md\n",
      "md\\contacts\\Eboard Member2.md\n",
      "md\\learning\\AI\\Attention.md\n",
      "md\\learning\\Jupyter\\Intro to Jupyter.md\n",
      "md\\learning\\Python\\Hello World.md\n",
      "md\\learning\\Rosie\\Jernel.md\n",
      "md\\learning\\Rosie\\What Is Rosie.md\n",
      "md\\research\\AI Music.md\n",
      "md\\workshops\\Example 2.md\n",
      "md\\workshops\\Example Workshop.md\n",
      "md\\merch\\Brain.md\n"
     ]
    }
   ],
   "source": [
    "import os\n",
    "\n",
    "def list_md_files_in_directory(directory):\n",
    "    md_files = []\n",
    "    for root, dirs, files in os.walk(directory):\n",
    "        for file in files:\n",
    "            if file.lower().endswith(\".md\"):\n",
    "                file_path = os.path.join(root, file)\n",
    "                md_files.append(file_path)\n",
    "\n",
    "    # Sort the Markdown file list by date of creation (modification)\n",
    "    sorted_md_files = sorted(md_files, key=os.path.getctime)\n",
    "    return sorted_md_files\n",
    "\n",
    "directory_path = \"md\"\n",
    "files = list_md_files_in_directory(directory_path)\n",
    "for file in files:\n",
    "    print(file)"
   ]
  }
 ],
 "metadata": {
  "kernelspec": {
   "display_name": "Python 3",
   "language": "python",
   "name": "python3"
  },
  "language_info": {
   "codemirror_mode": {
    "name": "ipython",
    "version": 3
   },
   "file_extension": ".py",
   "mimetype": "text/x-python",
   "name": "python",
   "nbconvert_exporter": "python",
   "pygments_lexer": "ipython3",
   "version": "3.10.10"
  },
  "orig_nbformat": 4
 },
 "nbformat": 4,
 "nbformat_minor": 2
}
