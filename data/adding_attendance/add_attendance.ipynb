{
 "cells": [
  {
   "cell_type": "markdown",
   "metadata": {},
   "source": [
    "# Add Attendance Points Script\n",
    "**Ben Paulson -- 9/12/2023**<br>\n",
    "\n",
    "Given a specific attendance-points form (same format), can parse and add the points to each student that filled out the form. Warnings will be provided for students that are not already included in the form or if there was a typo.<br>\n",
    "\n",
    "A format to follow is the following W2 attendance form from 2023: https://forms.office.com/Pages/DesignPageV2.aspx?prevorigin=Marketing&origin=NeoPortalPage&subpage=design&id=rM5GQNP9yUasgLfEpJurcGAyFplwhXJCtqB2wsxmGVlUNERLT0g1N0IzOU9aVk1INjE5S0w5VjBRQS4u"
   ]
  },
  {
   "cell_type": "markdown",
   "metadata": {},
   "source": [
    "# Part 1: Import Statements"
   ]
  },
  {
   "cell_type": "code",
   "execution_count": 2,
   "metadata": {},
   "outputs": [
    {
     "name": "stdout",
     "output_type": "stream",
     "text": [
      "Defaulting to user installation because normal site-packages is not writeable\n",
      "Requirement already satisfied: openpyxl in /Users/ben_paulson/Library/Python/3.9/lib/python/site-packages (3.1.5)\n",
      "Requirement already satisfied: et-xmlfile in /Users/ben_paulson/Library/Python/3.9/lib/python/site-packages (from openpyxl) (1.1.0)\n",
      "\u001b[33mWARNING: You are using pip version 21.2.4; however, version 24.2 is available.\n",
      "You should consider upgrading via the '/Library/Developer/CommandLineTools/usr/bin/python3 -m pip install --upgrade pip' command.\u001b[0m\n"
     ]
    }
   ],
   "source": [
    "!pip3 install openpyxl # Able to parse excel files using pandas"
   ]
  },
  {
   "cell_type": "code",
   "execution_count": 3,
   "metadata": {},
   "outputs": [],
   "source": [
    "import pandas as pd\n",
    "import numpy as np\n",
    "import os"
   ]
  },
  {
   "cell_type": "markdown",
   "metadata": {},
   "source": [
    "# Part 2: Parsing the Provided CSV Files\n",
    "Files in `to_parse` folder will be analyzed and points will be added. Once the sheet is analyzed, will be deleted to save AWS storage costs"
   ]
  },
  {
   "cell_type": "code",
   "execution_count": 4,
   "metadata": {},
   "outputs": [],
   "source": [
    "attendance_df = {} # {file_name: df}\n",
    "\n",
    "# Read through all files in the `to_parse` folder\n",
    "directory_name = './to_parse'\n",
    "for file in os.listdir(directory_name):\n",
    "    if file.endswith('.xlsx'):\n",
    "        file_name = directory_name + '/' + file\n",
    "        attendance_df[file_name] = pd.read_excel(file_name)"
   ]
  },
  {
   "cell_type": "code",
   "execution_count": 5,
   "metadata": {},
   "outputs": [],
   "source": [
    "website_data = pd.read_csv('../../data/User_Data.csv')"
   ]
  },
  {
   "cell_type": "code",
   "execution_count": 6,
   "metadata": {},
   "outputs": [
    {
     "data": {
      "text/plain": [
       "True"
      ]
     },
     "execution_count": 6,
     "metadata": {},
     "output_type": "execute_result"
    }
   ],
   "source": [
    "pd.notna(website_data.loc[100, 'Awards'])"
   ]
  },
  {
   "cell_type": "code",
   "execution_count": 11,
   "metadata": {},
   "outputs": [
    {
     "name": "stderr",
     "output_type": "stream",
     "text": [
      "C:\\Users\\paulsonb\\AppData\\Local\\Temp\\ipykernel_8848\\2155176163.py:9: SettingWithCopyWarning: \n",
      "A value is trying to be set on a copy of a slice from a DataFrame.\n",
      "Try using .loc[row_indexer,col_indexer] = value instead\n",
      "\n",
      "See the caveats in the documentation: https://pandas.pydata.org/pandas-docs/stable/user_guide/indexing.html#returning-a-view-versus-a-copy\n",
      "  df['email'] = df['Last Name'] + df['First Name'].str[0] + '@msoe.edu'\n",
      "C:\\Users\\paulsonb\\AppData\\Local\\Temp\\ipykernel_8848\\2155176163.py:10: SettingWithCopyWarning: \n",
      "A value is trying to be set on a copy of a slice from a DataFrame.\n",
      "Try using .loc[row_indexer,col_indexer] = value instead\n",
      "\n",
      "See the caveats in the documentation: https://pandas.pydata.org/pandas-docs/stable/user_guide/indexing.html#returning-a-view-versus-a-copy\n",
      "  df['email'] = df['email'].str.lower()\n"
     ]
    }
   ],
   "source": [
    "# Create the member_list.csv\n",
    "# df = website_data\n",
    "# df['First Name'] = df['User'].str.split(' ').str[0]\n",
    "# df['Last Name'] = df['User'].str.split(' ').str[1]\n",
    "# df = df[['First Name', 'Last Name']]\n",
    "\n",
    "# # Create a new column called 'email'\n",
    "# # Email is last_name + first letter of first name + @msoe.edu (all lowercase)\n",
    "# df['email'] = df['Last Name'] + df['First Name'].str[0] + '@msoe.edu'\n",
    "# df['email'] = df['email'].str.lower()\n",
    "\n",
    "# df.to_csv('member_list.csv')"
   ]
  },
  {
   "cell_type": "code",
   "execution_count": 7,
   "metadata": {},
   "outputs": [
    {
     "name": "stdout",
     "output_type": "stream",
     "text": [
      "WARNING: Josiah Mathews is not in the website_data df\n",
      "WARNING: Garrett Voight is not in the website_data df\n",
      "WARNING: Josh Myers is not in the website_data df\n",
      "WARNING: Ashton Thao is not in the website_data df\n",
      "WARNING: Ryan Pal Hilgendorf is not in the website_data df\n",
      "WARNING: Hayden Park is not in the website_data df\n",
      "WARNING: Jonathan Fantoni is not in the website_data df\n",
      "WARNING: Jasdeep Singh is not in the website_data df\n",
      "WARNING: Xander Ede is not in the website_data df\n",
      "WARNING: Zak Goetter is not in the website_data df\n",
      "WARNING: Mj Ramos is not in the website_data df\n",
      "WARNING: Vlad Wilson is not in the website_data df\n",
      "WARNING: Kathlyn Leanos is not in the website_data df\n",
      "WARNING: Servaisb@Msoe.Edu is not in the website_data df\n",
      "WARNING: Ben Grill is not in the website_data df\n",
      "WARNING: Peli Orugbani is not in the website_data df\n",
      "WARNING: Megan Cranston is not in the website_data df\n",
      "WARNING: Delsoro Somé is not in the website_data df\n",
      "WARNING: Sydney Madden is not in the website_data df\n",
      "WARNING: Mason Beynon is not in the website_data df\n",
      "WARNING: Giovanni Martinez is not in the website_data df\n",
      "WARNING: Kylee Gander is not in the website_data df\n",
      "WARNING: German Garrido-Lestache Belinchon is not in the website_data df\n",
      "WARNING: Kelsey Collins is not in the website_data df\n",
      "WARNING: Rishikesh Katta is not in the website_data df\n",
      "WARNING: Benjamin Leshin is not in the website_data df\n",
      "WARNING: Alexander Kruschka is not in the website_data df\n",
      "WARNING: Austin Koske is not in the website_data df\n",
      "WARNING: Needhama@Msoe.Edu is not in the website_data df\n",
      "WARNING: Venkata Reddy Karri is not in the website_data df\n",
      "WARNING: Vyshnav Naidu Vikkurthi is not in the website_data df\n",
      "WARNING: Kyle Sink is not in the website_data df\n",
      "WARNING: Leonardo Mayorga Cruz is not in the website_data df\n",
      "WARNING: Jayden Hudson is not in the website_data df\n",
      "WARNING: Trevor Hancock is not in the website_data df\n",
      "WARNING: Bryan Becerra-Cano is not in the website_data df\n",
      "WARNING: Raffertyp@Msoe.Edu is not in the website_data df\n",
      "WARNING: Neeraj Renil Kadavatheri is not in the website_data df\n",
      "WARNING: Giovanni Guaman is not in the website_data df\n",
      "WARNING: Will Lassiter is not in the website_data df\n",
      "WARNING: Tyler Moake is not in the website_data df\n",
      "WARNING: Joseph Beattie is not in the website_data df\n",
      "WARNING: Preston Bohnsack is not in the website_data df\n",
      "WARNING: Joshua Schelonka is not in the website_data df\n",
      "WARNING: Alec Weinbender is not in the website_data df\n",
      "WARNING: Srijan Kumar is not in the website_data df\n",
      "WARNING: Zain Ul Aayaan Moosa Mohammed is not in the website_data df\n",
      "WARNING: Elton Emini is not in the website_data df\n",
      "WARNING: Peter Gerrits is not in the website_data df\n",
      "WARNING: Dragan Milovanovic is not in the website_data df\n",
      "WARNING: Jonathan Keane is not in the website_data df\n",
      "WARNING: Quentin Robbins is not in the website_data df\n",
      "WARNING: Autumn Mizer is not in the website_data df\n",
      "WARNING: Isabella Ruiz is not in the website_data df\n",
      "WARNING: Sebastian Dolecki is not in the website_data df\n",
      "WARNING: Oskar Sierzega is not in the website_data df\n",
      "WARNING: Alayna Ostler is not in the website_data df\n",
      "WARNING: Savanna Mcclure is not in the website_data df\n",
      "WARNING: Wilfried Tapsoba is not in the website_data df\n",
      "WARNING: Cameron Delpage is not in the website_data df\n",
      "WARNING: Jack Lecloux is not in the website_data df\n",
      "WARNING: Reinholzj is not in the website_data df\n",
      "WARNING: Eli Vang is not in the website_data df\n",
      "WARNING: Excel Olatunji is not in the website_data df\n",
      "WARNING: Michael Link is not in the website_data df\n",
      "WARNING: Lucas Phillips is not in the website_data df\n",
      "WARNING: Ethan Houseworth is not in the website_data df\n",
      "WARNING: Andrew Gilpatrick is not in the website_data df\n",
      "WARNING: Chloe Hyatt is not in the website_data df\n",
      "WARNING: Zach Gardipee is not in the website_data df\n",
      "WARNING: Zach Burke is not in the website_data df\n",
      "WARNING: Josiah Reinholz is not in the website_data df\n",
      "WARNING: Zoe Kirkman is not in the website_data df\n",
      "WARNING: Madison Engebose is not in the website_data df\n",
      "WARNING: Chukwuma Chukwuma-Ugwu is not in the website_data df\n",
      "WARNING: Peter Kwaterski is not in the website_data df\n",
      "WARNING: Bjarne Baasch is not in the website_data df\n",
      "WARNING: Holly Raetz is not in the website_data df\n",
      "WARNING: Gabrielle Sladek is not in the website_data df\n",
      "WARNING: Ashtin Ledden is not in the website_data df\n",
      "WARNING: Reagan Burkemper is not in the website_data df\n",
      "WARNING: Brett Servais is not in the website_data df\n",
      "WARNING: Matthew Crawford is not in the website_data df\n",
      "WARNING: Evan Hartline is not in the website_data df\n",
      "WARNING: Francesco Carnevali is not in the website_data df\n",
      "WARNING: Jake Weiland is not in the website_data df\n",
      "WARNING: Asritha Mungara is not in the website_data df\n",
      "WARNING: Anthony Marchello is not in the website_data df\n",
      "WARNING: Lincoln Jiang is not in the website_data df\n",
      "WARNING: Freda Yang is not in the website_data df\n",
      "WARNING: Luke Stevens is not in the website_data df\n"
     ]
    }
   ],
   "source": [
    "for file_name,df in zip(attendance_df.keys(), attendance_df.values()):\n",
    "    attendance_names = df['First and Last Name'].tolist()\n",
    "    \n",
    "    # Print a warning for each of the attendance_names which are not in the 'User' column of the website_data df\n",
    "    ADD_MISSING_USERS = True\n",
    "    ADD_BADGE = None\n",
    "    for name in attendance_names:\n",
    "        name = name.strip()\n",
    "        name = name.title()\n",
    "\n",
    "        # Create the list website_data['User'].tolist() and apply .strip() and .title() to each element\n",
    "        name_list = website_data['User'].apply(lambda x: x.strip().title()).tolist()\n",
    "        if name not in name_list:\n",
    "            print(f'WARNING: {name} is not in the website_data df')\n",
    "            \n",
    "            if ADD_MISSING_USERS:\n",
    "                website_data = pd.concat([website_data, pd.DataFrame({'User': [name], 'Description': ['test description'], 'Awards':[''], 'All-Time Points': [0], 'Current Points': [0]})], ignore_index=True)\n",
    "\n",
    "        # If name in list and ADD_BADGE isn't None, add the badge to their 'Awards' column\n",
    "        if ADD_BADGE:\n",
    "            index = name_list.index(name)\n",
    "            # If they already have a badge, add the new badge w/ '|' at beginning\n",
    "            if pd.notna(website_data.loc[index, 'Awards']):\n",
    "                website_data.loc[index, 'Awards'] += f'|{ADD_BADGE}'\n",
    "            # If they don't have a badge, add the new badge w/o '|' at beginning\n",
    "            else:\n",
    "                website_data.loc[index, 'Awards'] = ADD_BADGE\n",
    "            \n",
    "\n",
    "    # Filter out all records in the website_data df where the 'User' column isn't in the attendance_names list\n",
    "    filtered_website_data = website_data[website_data['User'].isin(attendance_names)]\n",
    "\n",
    "    # For all the records that are in filtred_website_data, add a 1 to the 'All-Time Points' and 'Current Points' columns in the website_data df\n",
    "    for index, row in filtered_website_data.iterrows():\n",
    "        website_data.loc[index, 'All-Time Points'] += 1\n",
    "        website_data.loc[index, 'Current Points'] += 1\n",
    "    \n",
    "    # Save the updated website_data df to a csv file\n",
    "    website_data.to_csv('../../data/User_Data.csv', index=False)\n",
    "\n",
    "    # Delete the file once finished parsing\n",
    "    os.remove(file_name)"
   ]
  },
  {
   "cell_type": "code",
   "execution_count": 8,
   "metadata": {},
   "outputs": [],
   "source": [
    "# If anyone in website_data has 0 All-Time Points and 0 Current Points (at the same time), make sure they are at least given 1 point\n",
    "website_data.loc[(website_data['All-Time Points'] == 0) & (website_data['Current Points'] == 0), 'All-Time Points'] = 1\n",
    "website_data.to_csv('../../data/User_Data.csv', index=False)"
   ]
  },
  {
   "cell_type": "code",
   "execution_count": null,
   "metadata": {},
   "outputs": [],
   "source": []
  }
 ],
 "metadata": {
  "kernelspec": {
   "display_name": "Python 3",
   "language": "python",
   "name": "python3"
  },
  "language_info": {
   "codemirror_mode": {
    "name": "ipython",
    "version": 3
   },
   "file_extension": ".py",
   "mimetype": "text/x-python",
   "name": "python",
   "nbconvert_exporter": "python",
   "pygments_lexer": "ipython3",
   "version": "3.9.6"
  },
  "orig_nbformat": 4
 },
 "nbformat": 4,
 "nbformat_minor": 2
}
