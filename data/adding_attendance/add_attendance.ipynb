{
 "cells": [
  {
   "cell_type": "markdown",
   "metadata": {},
   "source": [
    "# Add Attendance Points Script\n",
    "Given a specific attendance-points form (same format), can parse and add the points to each student that filled out the form. Warnings will be provided for students that are not already included in the form or if there was a typo.<br>\n",
    "\n",
    "A format to follow is the following W2 attendance form from 2023: https://forms.office.com/Pages/DesignPageV2.aspx?prevorigin=Marketing&origin=NeoPortalPage&subpage=design&id=rM5GQNP9yUasgLfEpJurcGAyFplwhXJCtqB2wsxmGVlUNERLT0g1N0IzOU9aVk1INjE5S0w5VjBRQS4u"
   ]
  },
  {
   "cell_type": "markdown",
   "metadata": {},
   "source": [
    "# Part 1: Import Statements"
   ]
  },
  {
   "cell_type": "code",
   "execution_count": 17,
   "metadata": {},
   "outputs": [
    {
     "name": "stdout",
     "output_type": "stream",
     "text": [
      "Collecting openpyxl\n",
      "  Downloading openpyxl-3.1.2-py2.py3-none-any.whl (249 kB)\n",
      "     ---------------------------------------- 0.0/250.0 kB ? eta -:--:--\n",
      "     - -------------------------------------- 10.2/250.0 kB ? eta -:--:--\n",
      "     ----------------------------- -------- 194.6/250.0 kB 2.4 MB/s eta 0:00:01\n",
      "     -------------------------------------- 250.0/250.0 kB 2.2 MB/s eta 0:00:00\n",
      "Collecting et-xmlfile (from openpyxl)\n",
      "  Downloading et_xmlfile-1.1.0-py3-none-any.whl (4.7 kB)\n",
      "Installing collected packages: et-xmlfile, openpyxl\n",
      "Successfully installed et-xmlfile-1.1.0 openpyxl-3.1.2\n"
     ]
    }
   ],
   "source": [
    "!pip install openpyxl"
   ]
  },
  {
   "cell_type": "code",
   "execution_count": 2,
   "metadata": {},
   "outputs": [],
   "source": [
    "import pandas as pd\n",
    "import os"
   ]
  },
  {
   "cell_type": "markdown",
   "metadata": {},
   "source": [
    "# Part 2: Parsing the Provided CSV Files\n",
    "Files in `to_parse` folder will be analyzed and points will be added. Once the sheet is analyzed, will be deleted to save AWS storage costs"
   ]
  },
  {
   "cell_type": "code",
   "execution_count": 21,
   "metadata": {},
   "outputs": [],
   "source": [
    "attendance_df = {} # {file_name: df}\n",
    "\n",
    "# Read through all files in the `to_parse` folder\n",
    "directory_name = './to_parse'\n",
    "for file in os.listdir(directory_name):\n",
    "    if file.endswith('.xlsx'):\n",
    "        file_name = directory_name + '/' + file\n",
    "        attendance_df[file_name] = pd.read_excel(file_name)"
   ]
  },
  {
   "cell_type": "code",
   "execution_count": 28,
   "metadata": {},
   "outputs": [],
   "source": [
    "website_data = pd.read_csv('../../data/User_Data.csv')"
   ]
  },
  {
   "cell_type": "code",
   "execution_count": 43,
   "metadata": {},
   "outputs": [],
   "source": [
    "for file_name,df in zip(attendance_df.keys(), attendance_df.values()):\n",
    "    attendance_names = df['First and Last Name'].tolist()\n",
    "    \n",
    "    # Print a warning for each of the attendance_names which are not in the 'User' column of the website_data df\n",
    "    ADD_MISSING_USERS = False\n",
    "    for name in attendance_names:\n",
    "        if name not in website_data['User'].tolist():\n",
    "            print(f'WARNING: {name} is not in the website_data df')\n",
    "            \n",
    "            if ADD_MISSING_USERS:\n",
    "                website_data = pd.concat([website_data, pd.DataFrame({'User': [name], 'Description': ['test description'], 'Awards':[''], 'All-Time Points': [0], 'Current Points': [0]})], ignore_index=True)\n",
    "            \n",
    "\n",
    "    # Filter out all records in the website_data df where the 'User' column isn't in the attendance_names list\n",
    "    filtered_website_data = website_data[website_data['User'].isin(attendance_names)]\n",
    "\n",
    "    # For all the records that are in filtred_website_data, add a 1 to the 'All-Time Points' and 'Current Points' columns in the website_data df\n",
    "    for index, row in filtered_website_data.iterrows():\n",
    "        website_data.loc[index, 'All-Time Points'] += 1\n",
    "        website_data.loc[index, 'Current Points'] += 1\n",
    "    \n",
    "    # Save the updated website_data df to a csv file\n",
    "    website_data.to_csv('../../data/User_Data.csv', index=False)\n",
    "\n",
    "    # Delete the file once finished parsing\n",
    "    os.remove(file_name)"
   ]
  }
 ],
 "metadata": {
  "kernelspec": {
   "display_name": "Python 3",
   "language": "python",
   "name": "python3"
  },
  "language_info": {
   "codemirror_mode": {
    "name": "ipython",
    "version": 3
   },
   "file_extension": ".py",
   "mimetype": "text/x-python",
   "name": "python",
   "nbconvert_exporter": "python",
   "pygments_lexer": "ipython3",
   "version": "3.11.5"
  },
  "orig_nbformat": 4
 },
 "nbformat": 4,
 "nbformat_minor": 2
}
